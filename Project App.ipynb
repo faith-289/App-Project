import tkinter as tk
from tkinter import messagebox, filedialog
import folium, webbrowser, csv
import matplotlib.pyplot as plt
from matplotlib.backends.backend_tkagg import FigureCanvasTkAgg
import matplotlib.dates as mdates
from matplotlib.patches import Rectangle
import json
import os
import shutil
import datetime
import random
import re

# --- User and Data Storage ---
# Load users from file if exists
def load_users_from_file():
    users_data = []
    if os.path.exists('users.json'):
        try:
            file = open('users.json', 'r')
            data = json.load(file)
            file.close()
           
            # Handle both old dictionary format and new list format
            if isinstance(data, dict):
                # Convert old format to new format
                for username, user_info in data.items():
                    if isinstance(user_info, (list, tuple)) and len(user_info) >= 2:
                        users_data.append({
                            "username": username,
                            "password": user_info[0],
                            "id": "0000",  # Default ID for migrated users
                            "role": user_info[1]
                        })
            elif isinstance(data, list):
                users_data = data
               
        except Exception as e:
            print(f"Error loading users: {e}")
            users_data = []
           
    return users_data

def save_users_to_file():
    file = open('users.json', 'w')
    json.dump(users, file)
    file.close()

def load_minerals_from_file():
    minerals_data = {}
    if os.path.exists('minerals.json'):
        file = open('minerals.json', 'r')
        minerals_data = json.load(file)
        file.close()
        # Convert coordinate lists back to proper format
        for mineral_name in minerals_data:
            mineral_info = minerals_data[mineral_name]
            coordinates = mineral_info[3]
            minerals_data[mineral_name] = (mineral_info[0], mineral_info[1], mineral_info[2], coordinates)
    return minerals_data

def save_minerals_to_file():
    file = open('minerals.json', 'w')
    json.dump(minerals, file)
    file.close()

def load_countries_from_file():
    countries_data = {}
    if os.path.exists('countries.json'):
        file = open('countries.json', 'r')
        countries_data = json.load(file)
        file.close()
    return countries_data

def save_countries_to_file():
    file = open('countries.json', 'w')
    json.dump(country_profiles, file)
    file.close()

def load_favorites_from_file():
    favorites_data = []
    if os.path.exists('favorites.json'):
        file = open('favorites.json', 'r')
        favorites_data = json.load(file)
        file.close()
    return favorites_data

def save_favorites_to_file():
    file = open('favorites.json', 'w')
    json.dump(favorites, file)
    file.close()

# Load data when program starts
users = load_users_from_file()
if not users:  # If no users file exists, use default data
    users = [
        {"username": "Ina10", "password": "password", "id": "0405", "role": "Administrator"}
    ]

minerals = load_minerals_from_file()
if not minerals:  # If no minerals file exists, use default data
    minerals = {
        "Cobalt": ("Co", "Battery production", "Democratic Republic of Congo", [-4.0, 15.0]),
        "Lithium": ("Li", "Electric vehicle batteries", "Zimbabwe", [-20.0, 30.0]),
        "Manganese": ("Mn", "Steel production", "South Africa", [-28.0, 24.0]),
        "Graphite": ("C", "Battery anodes", "Mozambique", [-18.0, 35.0])
    }

country_profiles = load_countries_from_file()
if not country_profiles:  # If no countries file exists, use default data
    country_profiles = {
        "South Africa": (["Manganese", "Platinum", "Chromium"], 200, 7.5, "Kalahari Manganese Field"),
        "Zimbabwe": (["Lithium", "Gold", "Platinum"], 50, 4.0, "Bikita Lithium Project"),
        "Democratic Republic Of Congo": (["Cobalt", "Copper"], 300, 10.2, "Katanga Mining Operations"),
        "Mozambique": (["Graphite", "Coal"], 80, 3.1, "Balama Graphite Project")
    }

favorites = load_favorites_from_file()

ROLE_OPTIONS = ["Administrator", "Investor", "Researcher"]

# --- Authentication and User Management ---
def validate_username(username, role):
    """
    Validate username based on specific requirements:
    - Administrator: Must be "Ina10" (only for the default admin)
    - Investor/Researcher: Can be any username
    """
    username = username.strip()
    
    # Only enforce username format for Administrator role
    if role == "Administrator":
        if username != "Ina10":
            return False, "Administrator username must be 'Ina10'"
    
    # For Investor and Researcher roles, any username is allowed
    return True, "Valid username"

def detect_role_from_username(username):
    """
    Automatically detect role from username
    - "Ina10" is always Administrator
    - For other usernames, check the stored role
    """
    username = username.strip()
    
    # "Ina10" is always Administrator
    if username == "Ina10":
        return "Administrator"
    
    # For other usernames, find their role in the users list
    for user in users:
        if user["username"] == username:
            return user["role"]
    
    return None

def login_user():
    username = username_entry.get().strip()
    password = password_entry.get().strip()
    
    if not username or not password:
        messagebox.showerror("Error", "Username and password are required.")
        return
    
    # Automatically detect role from username
    detected_role = detect_role_from_username(username)
    if detected_role is None:
        messagebox.showerror("Error", "Invalid username or password.")
        return
    
    # Find user in the list
    user_found = None
    for user in users:
        if user["username"] == username and user["password"] == password:
            user_found = user
            break
    
    if user_found:
        # Verify the detected role matches the stored role
        stored_role = user_found["role"]
        if stored_role == detected_role:
            show_frame(dashboard_frame)
            welcome_label.config(text=f"Welcome {username} ({stored_role})")
            if stored_role == "Administrator":
                admin_btns_frame.pack(pady=8)
                backup_btn.pack(side="right", padx=8)
            else:
                admin_btns_frame.pack_forget()
                backup_btn.pack_forget()
            show_notification(f"Login successful! Welcome back, {username}!")
        else:
            messagebox.showerror("Error", f"Role mismatch! Your username suggests {detected_role}, but account is registered as {stored_role}.")
    else:
        messagebox.showerror("Error", "Invalid username or password.")

def logout_user():
    username_entry.delete(0, tk.END)
    password_entry.delete(0, tk.END)
    admin_btns_frame.pack_forget()
    backup_btn.pack_forget()
    show_frame(login_frame)
    show_notification("Logged out successfully!")

def manage_users():
    for widget in user_content.winfo_children():
        widget.destroy()

    # SIMPLE FIX: Remove complex centering, just use pack with padding
    title_frame = tk.Frame(user_content, bg="#20243b")
    title_frame.pack(fill="x", pady=20)
    tk.Label(title_frame, text="👥 Manage Users", font=("Segoe UI", 28, "bold"),
             fg="#FFD700", bg="#20243b").pack()
    
    # Content container with centered alignment
    content_frame = tk.Frame(user_content, bg="#20243b")
    content_frame.pack(fill="both", expand=True, padx=100, pady=20)  # Increased padding for centering

    # Add New User form
    add_frame = tk.Frame(content_frame, bg="#2b2f4b", bd=3, relief="ridge", padx=20, pady=15)
    add_frame.pack(fill="x", pady=15)
    tk.Label(add_frame, text="➕ Add New User", font=("Segoe UI", 18, "bold"), fg="#FFD700", bg="#2b2f4b").pack(anchor="w", pady=10)

    form_frame = tk.Frame(add_frame, bg="#2b2f4b")
    form_frame.pack(fill="x", padx=10)

    tk.Label(form_frame, text="👤 Username:", fg="white", bg="#2b2f4b", font=("Segoe UI", 12)).grid(row=0, column=0, sticky="w", pady=8)
    new_user_entry = tk.Entry(form_frame, font=("Segoe UI", 12), width=25)
    new_user_entry.grid(row=0, column=1, padx=10, pady=8, sticky="w")
    
    tk.Label(form_frame, text="🔑 Password:", fg="white", bg="#2b2f4b", font=("Segoe UI", 12)).grid(row=1, column=0, sticky="w", pady=8)
    new_pass_entry = tk.Entry(form_frame, show="*", font=("Segoe UI", 12), width=25)
    new_pass_entry.grid(row=1, column=1, padx=10, pady=8, sticky="w")
    
    tk.Label(form_frame, text="🎭 Role:", fg="white", bg="#2b2f4b", font=("Segoe UI", 12)).grid(row=2, column=0, sticky="w", pady=8)
    new_role_var = tk.StringVar(value="Investor")  # Default to Investor
    role_menu = tk.OptionMenu(form_frame, new_role_var, "Investor", "Researcher")
    role_menu.config(font=("Segoe UI", 12), width=22)
    role_menu.grid(row=2, column=1, padx=10, pady=8, sticky="w")

    def add_user():
        uname = new_user_entry.get().strip()
        pwd = new_pass_entry.get().strip()
        role = new_role_var.get()
        if not uname or not pwd:
            messagebox.showerror("Error", "Username and password required.")
            return
        
        # Check if username already exists
        for user in users:
            if user["username"] == uname:
                messagebox.showerror("Error", f"User '{uname}' already exists.")
                return
        
        # Generate a simple ID (you can make this more sophisticated)
        user_id = str(len(users) + 1).zfill(4)
        
        new_user = {
            "username": uname,
            "password": pwd,
            "id": user_id,
            "role": role
        }
        
        users.append(new_user)
        save_users_to_file()
        show_notification(f"User '{uname}' added successfully as {role}!")
        new_user_entry.delete(0, tk.END)
        new_pass_entry.delete(0, tk.END)
        manage_users()
    
    btn_frame = tk.Frame(add_frame, bg="#2b2f4b")
    btn_frame.pack(fill="x", pady=10)
    tk.Button(btn_frame, text="➕ Add User", command=add_user, bg="#2C73D2", fg="white", 
             font=("Segoe UI", 12, "bold"), padx=20, pady=8).pack(side="right", padx=10)

    # Existing users list
    users_frame = tk.Frame(content_frame, bg="#20243b")
    users_frame.pack(fill="both", expand=True, pady=20)
    
    if users:
        tk.Label(users_frame, text="📋 Existing Users", font=("Segoe UI", 20, "bold"), fg="#FFD700", bg="#20243b").pack(anchor="w", pady=10)
        
        for user in list(users):
            uname = user["username"]
            role = user["role"]
            user_id = user["id"]
            
            # Center each user card
            user_container = tk.Frame(users_frame, bg="#20243b")
            user_container.pack(fill="x", pady=8)
            
            frame = tk.Frame(user_container, bg="#2b2f4b", bd=2, relief="ridge", padx=15, pady=12)
            frame.pack(fill="x", pady=5, padx=150)  # Add horizontal padding to center the cards

            user_info_frame = tk.Frame(frame, bg="#2b2f4b")
            user_info_frame.pack(fill="x", pady=5)

            tk.Label(user_info_frame, text=f"👤 {uname}", fg="white", bg="#2b2f4b", 
                    font=("Segoe UI", 14, "bold")).pack(side="left", padx=10)
            tk.Label(user_info_frame, text=f"🎭 {role}", fg="#FFD700", bg="#2b2f4b",
                    font=("Segoe UI", 12)).pack(side="left", padx=20)
            tk.Label(user_info_frame, text=f"🆔 ID: {user_id}", fg="white", bg="#2b2f4b",
                    font=("Segoe UI", 12)).pack(side="left", padx=20)

            controls_frame = tk.Frame(frame, bg="#2b2f4b")
            controls_frame.pack(fill="x", pady=5)

            # Don't allow changing the admin username or role
            if uname == "Ina10":
                tk.Label(controls_frame, text="🔒 System Administrator (Cannot be modified)", 
                        fg="#FFD700", bg="#2b2f4b", font=("Segoe UI", 10, "bold")).pack(side="left", padx=10)
            else:
                role_var_local = tk.StringVar(value=role)
                # Only allow changing between Investor and Researcher (not Administrator)
                role_dropdown = tk.OptionMenu(controls_frame, role_var_local, "Investor", "Researcher")
                role_dropdown.config(font=("Segoe UI", 10), width=12)
                role_dropdown.pack(side="left", padx=10)

                def save_user(u=uname, rv=role_var_local):
                    # Update user role
                    for user_obj in users:
                        if user_obj["username"] == u:
                            user_obj["role"] = rv.get()
                            break
                    save_users_to_file()
                    show_notification(f"{u}'s role updated successfully!")
                    manage_users()

                def delete_user(u=uname):
                    if messagebox.askyesno("Confirm", f"Delete user {u}?"):
                        # Remove user from list
                        global users
                        users = [user_obj for user_obj in users if user_obj["username"] != u]
                        save_users_to_file()
                        show_notification(f"User {u} deleted successfully!")
                        manage_users()

                tk.Button(controls_frame, text="💾 Save", command=save_user, bg="#2C73D2", fg="white",
                         font=("Segoe UI", 10, "bold")).pack(side="right", padx=5)
                tk.Button(controls_frame, text="🗑️ Delete", command=delete_user, bg="red", fg="white",
                         font=("Segoe UI", 10, "bold")).pack(side="right", padx=5)
