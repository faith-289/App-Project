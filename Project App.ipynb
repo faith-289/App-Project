import tkinter as tk
from tkinter import messagebox, filedialog
import folium, webbrowser, csv
import matplotlib.pyplot as plt
from matplotlib.backends.backend_tkagg import FigureCanvasTkAgg
import matplotlib.dates as mdates
from matplotlib.patches import Rectangle
import json
import os
import shutil
import datetime
import random
import re

# --- User and Data Storage ---
# Load users from file if exists
def load_users_from_file():
    users_data = []
    if os.path.exists('users.json'):
        try:
            file = open('users.json', 'r')
            data = json.load(file)
            file.close()
           
            # Handle both old dictionary format and new list format
            if isinstance(data, dict):
                # Convert old format to new format
                for username, user_info in data.items():
                    if isinstance(user_info, (list, tuple)) and len(user_info) >= 2:
                        users_data.append({
                            "username": username,
                            "password": user_info[0],
                            "id": "0000",  # Default ID for migrated users
                            "role": user_info[1]
                        })
            elif isinstance(data, list):
                users_data = data
               
        except Exception as e:
            print(f"Error loading users: {e}")
            users_data = []
           
    return users_data

def save_users_to_file():
    file = open('users.json', 'w')
    json.dump(users, file)
    file.close()

def load_minerals_from_file():
    minerals_data = {}
    if os.path.exists('minerals.json'):
        file = open('minerals.json', 'r')
        minerals_data = json.load(file)
        file.close()
        # Convert coordinate lists back to proper format
        for mineral_name in minerals_data:
            mineral_info = minerals_data[mineral_name]
            coordinates = mineral_info[3]
            minerals_data[mineral_name] = (mineral_info[0], mineral_info[1], mineral_info[2], coordinates)
    return minerals_data

def save_minerals_to_file():
    file = open('minerals.json', 'w')
    json.dump(minerals, file)
    file.close()

def load_countries_from_file():
    countries_data = {}
    if os.path.exists('countries.json'):
        file = open('countries.json', 'r')
        countries_data = json.load(file)
        file.close()
    return countries_data

def save_countries_to_file():
    file = open('countries.json', 'w')
    json.dump(country_profiles, file)
    file.close()

def load_favorites_from_file():
    favorites_data = []
    if os.path.exists('favorites.json'):
        file = open('favorites.json', 'r')
        favorites_data = json.load(file)
        file.close()
    return favorites_data

def save_favorites_to_file():
    file = open('favorites.json', 'w')
    json.dump(favorites, file)
    file.close()

# Load data when program starts
users = load_users_from_file()
if not users:  # If no users file exists, use default data
    users = [
        {"username": "Ina10", "password": "password", "id": "0405", "role": "Administrator"}
    ]

minerals = load_minerals_from_file()
if not minerals:  # If no minerals file exists, use default data
    minerals = {
        "Cobalt": ("Co", "Battery production", "Democratic Republic of Congo", [-4.0, 15.0]),
        "Lithium": ("Li", "Electric vehicle batteries", "Zimbabwe", [-20.0, 30.0]),
        "Manganese": ("Mn", "Steel production", "South Africa", [-28.0, 24.0]),
        "Graphite": ("C", "Battery anodes", "Mozambique", [-18.0, 35.0])
    }

country_profiles = load_countries_from_file()
if not country_profiles:  # If no countries file exists, use default data
    country_profiles = {
        "South Africa": (["Manganese", "Platinum", "Chromium"], 200, 7.5, "Kalahari Manganese Field"),
        "Zimbabwe": (["Lithium", "Gold", "Platinum"], 50, 4.0, "Bikita Lithium Project"),
        "Democratic Republic Of Congo": (["Cobalt", "Copper"], 300, 10.2, "Katanga Mining Operations"),
        "Mozambique": (["Graphite", "Coal"], 80, 3.1, "Balama Graphite Project")
    }

favorites = load_favorites_from_file()

ROLE_OPTIONS = ["Administrator", "Investor", "Researcher"]

# --- Market Price Data for Candlestick Chart ---
def generate_market_data():
    """Generate sample market price data for minerals"""
    minerals_list = ["Cobalt", "Lithium", "Manganese", "Graphite"]
    market_data = {}
   
    for mineral in minerals_list:
        prices = []
        current_date = datetime.datetime(2024, 1, 1)
        base_price = random.uniform(50, 200)  # Base price between $50-$200
       
        for week in range(52):  # 52 weeks of data
            open_price = base_price + random.uniform(-10, 10)
            close_price = open_price + random.uniform(-15, 15)
            high_price = max(open_price, close_price) + random.uniform(5, 20)
            low_price = min(open_price, close_price) - random.uniform(5, 20)
           
            # Ensure prices are positive
            open_price = max(open_price, 10)
            close_price = max(close_price, 10)
            high_price = max(high_price, 10)
            low_price = max(low_price, 10)
           
            prices.append({
                'date': current_date,
                'open': open_price,
                'high': high_price,
                'low': low_price,
                'close': close_price,
                'volume': random.randint(1000, 10000)
            })
           
            current_date += datetime.timedelta(days=7)
            # Update base price for next week with some trend
            base_price = close_price + random.uniform(-5, 5)
       
        market_data[mineral] = prices
   
    return market_data

# Generate market data
market_prices = generate_market_data()

# --- NEW FEATURES ---

# 1. Search Function
def search_minerals():
    search_term = search_entry.get().strip().lower()
    if not search_term:
        populate_minerals()
        return
   
    for widget in mineral_content.winfo_children():
        widget.destroy()
   
    # SIMPLE FIX: Remove complex centering, just use pack with padding
    title_frame = tk.Frame(mineral_content, bg="#20243b")
    title_frame.pack(fill="x", pady=20)
    tk.Label(title_frame, text=f"🔍 Search Results for: '{search_term}'", font=("Segoe UI", 28, "bold"),
             fg="#FFD700", bg="#20243b").pack()
   
    # Content container with centered alignment
    content_frame = tk.Frame(mineral_content, bg="#20243b")
    content_frame.pack(fill="both", expand=True, padx=100, pady=20)  # Increased padding for centering
   
    found_any = False
    for name, details in minerals.items():
        if (search_term in name.lower() or
            search_term in details[0].lower() or
            search_term in details[1].lower() or
            search_term in details[2].lower()):
           
            found_any = True
            # Center each card by making it smaller and centering
            card_container = tk.Frame(content_frame, bg="#20243b")
            card_container.pack(fill="x", pady=10)
           
            card = tk.Frame(card_container, bg="#2b2f4b", bd=3, relief="ridge", padx=20, pady=15)
            card.pack(fill="x", pady=5, padx=150)  # Add horizontal padding to center the cards
           
            # Favorite star
            star = "★" if name in favorites else "☆"
            title_frame_card = tk.Frame(card, bg="#2b2f4b")
            title_frame_card.pack(fill="x")
           
            tk.Label(title_frame_card, text=name, font=("Segoe UI", 20, "bold"), fg="#FFD700", bg="#2b2f4b").pack(side="left")
            fav_btn = tk.Button(title_frame_card, text=star, font=("Segoe UI", 16), fg="#FFD700", bg="#2b2f4b",
                              bd=0, command=lambda n=name: toggle_favorite(n))
            fav_btn.pack(side="right")
           
            info_frame = tk.Frame(card, bg="#2b2f4b")
            info_frame.pack(fill="x", padx=10)
           
            tk.Label(info_frame, text=f"🔤 Symbol: {details[0]}", fg="white", bg="#2b2f4b",
                    font=("Segoe UI", 14)).pack(anchor="w", pady=5)
            tk.Label(info_frame, text=f"🏭 Main Use: {details[1]}", fg="white", bg="#2b2f4b",
                    font=("Segoe UI", 14)).pack(anchor="w", pady=5)
            tk.Label(info_frame, text=f"🌍 Country: {details[2]}", fg="white", bg="#2b2f4b",
                    font=("Segoe UI", 14)).pack(anchor="w", pady=5)
   
    if not found_any:
        tk.Label(content_frame, text="No minerals found matching your search.",
                fg="white", bg="#20243b", font=("Segoe UI", 16)).pack(pady=50)

# 2. Favorites System
def toggle_favorite(mineral_name):
    if mineral_name in favorites:
        favorites.remove(mineral_name)
        show_notification(f"Removed {mineral_name} from favorites")
    else:
        favorites.append(mineral_name)
        show_notification(f"Added {mineral_name} to favorites")
    save_favorites_to_file()
    if hasattr(search_entry, 'get') and search_entry.get().strip():
        search_minerals()
    else:
        populate_minerals()

def show_favorites():
    for widget in mineral_content.winfo_children():
        widget.destroy()
   
    # SIMPLE FIX: Remove complex centering, just use pack with padding
    title_frame = tk.Frame(mineral_content, bg="#20243b")
    title_frame.pack(fill="x", pady=20)
    tk.Label(title_frame, text="⭐ Favorite Minerals", font=("Segoe UI", 28, "bold"),
             fg="#FFD700", bg="#20243b").pack()
   
    # Content container with centered alignment
    content_frame = tk.Frame(mineral_content, bg="#20243b")
    content_frame.pack(fill="both", expand=True, padx=100, pady=20)  # Increased padding for centering
   
    if not favorites:
        tk.Label(content_frame, text="No favorites yet. Click the star icon on any mineral to add it!",
                fg="white", bg="#20243b", font=("Segoe UI", 16)).pack(pady=50)
        return
   
    for name in favorites:
        if name in minerals:
            details = minerals[name]
            # Center each card by making it smaller and centering
            card_container = tk.Frame(content_frame, bg="#20243b")
            card_container.pack(fill="x", pady=10)
           
            card = tk.Frame(card_container, bg="#2b2f4b", bd=3, relief="ridge", padx=20, pady=15)
            card.pack(fill="x", pady=5, padx=150)  # Add horizontal padding to center the cards
           
            title_frame_card = tk.Frame(card, bg="#2b2f4b")
            title_frame_card.pack(fill="x")
           
            tk.Label(title_frame_card, text=name, font=("Segoe UI", 20, "bold"), fg="#FFD700", bg="#2b2f4b").pack(side="left")
            fav_btn = tk.Button(title_frame_card, text="★", font=("Segoe UI", 16), fg="#FFD700", bg="#2b2f4b",
                              bd=0, command=lambda n=name: toggle_favorite(n))
            fav_btn.pack(side="right")
           
            info_frame = tk.Frame(card, bg="#2b2f4b")
            info_frame.pack(fill="x", padx=10)
           
            tk.Label(info_frame, text=f"🔤 Symbol: {details[0]}", fg="white", bg="#2b2f4b",
                    font=("Segoe UI", 14)).pack(anchor="w", pady=5)
            tk.Label(info_frame, text=f"🏭 Main Use: {details[1]}", fg="white", bg="#2b2f4b",
                    font=("Segoe UI", 14)).pack(anchor="w", pady=5)
            tk.Label(info_frame, text=f"🌍 Country: {details[2]}", fg="white", bg="#2b2f4b",
                    font=("Segoe UI", 14)).pack(anchor="w", pady=5)


                tk.Button(controls_frame, text="💾 Save", command=save_user, bg="#2C73D2", fg="white",
                         font=("Segoe UI", 10, "bold")).pack(side="right", padx=5)
                tk.Button(controls_frame, text="🗑️ Delete", command=delete_user, bg="red", fg="white",
                         font=("Segoe UI", 10, "bold")).pack(side="right", padx=5)
