import tkinter as tk
from tkinter import messagebox, filedialog
import folium, webbrowser, csv
import matplotlib.pyplot as plt
from matplotlib.backends.backend_tkagg import FigureCanvasTkAgg
import matplotlib.dates as mdates
from matplotlib.patches import Rectangle
import json
import os
import shutil
import datetime
import random
import re

# --- User and Data Storage ---
# Load users from file if exists
def load_users_from_file():
    users_data = []
    if os.path.exists('users.json'):
        try:
            file = open('users.json', 'r')
            data = json.load(file)
            file.close()
           
            # Handle both old dictionary format and new list format
            if isinstance(data, dict):
                # Convert old format to new format
                for username, user_info in data.items():
                    if isinstance(user_info, (list, tuple)) and len(user_info) >= 2:
                        users_data.append({
                            "username": username,
                            "password": user_info[0],
                            "id": "0000",  # Default ID for migrated users
                            "role": user_info[1]
                        })
            elif isinstance(data, list):
                users_data = data
               
        except Exception as e:
            print(f"Error loading users: {e}")
            users_data = []
           
    return users_data

def save_users_to_file():
    file = open('users.json', 'w')
    json.dump(users, file)
    file.close()

def load_minerals_from_file():
    minerals_data = {}
    if os.path.exists('minerals.json'):
        file = open('minerals.json', 'r')
        minerals_data = json.load(file)
        file.close()
        # Convert coordinate lists back to proper format
        for mineral_name in minerals_data:
            mineral_info = minerals_data[mineral_name]
            coordinates = mineral_info[3]
            minerals_data[mineral_name] = (mineral_info[0], mineral_info[1], mineral_info[2], coordinates)
    return minerals_data

def save_minerals_to_file():
    file = open('minerals.json', 'w')
    json.dump(minerals, file)
    file.close()

def load_countries_from_file():
    countries_data = {}
    if os.path.exists('countries.json'):
        file = open('countries.json', 'r')
        countries_data = json.load(file)
        file.close()
    return countries_data

def save_countries_to_file():
    file = open('countries.json', 'w')
    json.dump(country_profiles, file)
    file.close()

def load_favorites_from_file():
    favorites_data = []
    if os.path.exists('favorites.json'):
        file = open('favorites.json', 'r')
        favorites_data = json.load(file)
        file.close()
    return favorites_data

def save_favorites_to_file():
    file = open('favorites.json', 'w')
    json.dump(favorites, file)
    file.close()

# Load data when program starts
users = load_users_from_file()
if not users:  # If no users file exists, use default data
    users = [
        {"username": "Ina10", "password": "password", "id": "0405", "role": "Administrator"}
    ]

minerals = load_minerals_from_file()
if not minerals:  # If no minerals file exists, use default data
    minerals = {
        "Cobalt": ("Co", "Battery production", "Democratic Republic of Congo", [-4.0, 15.0]),
        "Lithium": ("Li", "Electric vehicle batteries", "Zimbabwe", [-20.0, 30.0]),
        "Manganese": ("Mn", "Steel production", "South Africa", [-28.0, 24.0]),
        "Graphite": ("C", "Battery anodes", "Mozambique", [-18.0, 35.0])
    }

country_profiles = load_countries_from_file()
if not country_profiles:  # If no countries file exists, use default data
    country_profiles = {
        "South Africa": (["Manganese", "Platinum", "Chromium"], 200, 7.5, "Kalahari Manganese Field"),
        "Zimbabwe": (["Lithium", "Gold", "Platinum"], 50, 4.0, "Bikita Lithium Project"),
        "Democratic Republic Of Congo": (["Cobalt", "Copper"], 300, 10.2, "Katanga Mining Operations"),
        "Mozambique": (["Graphite", "Coal"], 80, 3.1, "Balama Graphite Project")
    }

favorites = load_favorites_from_file()

ROLE_OPTIONS = ["Administrator", "Investor", "Researcher"]

# --- Market Price Data for Candlestick Chart ---
def generate_market_data():
    """Generate sample market price data for minerals"""
    minerals_list = ["Cobalt", "Lithium", "Manganese", "Graphite"]
    market_data = {}
   
    for mineral in minerals_list:
        prices = []
        current_date = datetime.datetime(2024, 1, 1)
        base_price = random.uniform(50, 200)  # Base price between $50-$200
       
        for week in range(52):  # 52 weeks of data
            open_price = base_price + random.uniform(-10, 10)
            close_price = open_price + random.uniform(-15, 15)
            high_price = max(open_price, close_price) + random.uniform(5, 20)
            low_price = min(open_price, close_price) - random.uniform(5, 20)
           
            # Ensure prices are positive
            open_price = max(open_price, 10)
            close_price = max(close_price, 10)
            high_price = max(high_price, 10)
            low_price = max(low_price, 10)
           
            prices.append({
                'date': current_date,
                'open': open_price,
                'high': high_price,
                'low': low_price,
                'close': close_price,
                'volume': random.randint(1000, 10000)
            })
           
            current_date += datetime.timedelta(days=7)
            # Update base price for next week with some trend
            base_price = close_price + random.uniform(-5, 5)
       
        market_data[mineral] = prices
   
    return market_data

# Generate market data
market_prices = generate_market_data()

# --- NEW FEATURES ---

# 1. Search Function
def search_minerals():
    search_term = search_entry.get().strip().lower()
    if not search_term:
        populate_minerals()
        return
   
    for widget in mineral_content.winfo_children():
        widget.destroy()
   
    # SIMPLE FIX: Remove complex centering, just use pack with padding
    title_frame = tk.Frame(mineral_content, bg="#20243b")
    title_frame.pack(fill="x", pady=20)
    tk.Label(title_frame, text=f"🔍 Search Results for: '{search_term}'", font=("Segoe UI", 28, "bold"),
             fg="#FFD700", bg="#20243b").pack()
   
    # Content container with centered alignment
    content_frame = tk.Frame(mineral_content, bg="#20243b")
    content_frame.pack(fill="both", expand=True, padx=100, pady=20)  # Increased padding for centering
   
    found_any = False
    for name, details in minerals.items():
        if (search_term in name.lower() or
            search_term in details[0].lower() or
            search_term in details[1].lower() or
            search_term in details[2].lower()):
           
            found_any = True
            # Center each card by making it smaller and centering
            card_container = tk.Frame(content_frame, bg="#20243b")
            card_container.pack(fill="x", pady=10)
           
            card = tk.Frame(card_container, bg="#2b2f4b", bd=3, relief="ridge", padx=20, pady=15)
            card.pack(fill="x", pady=5, padx=150)  # Add horizontal padding to center the cards
           
            # Favorite star
            star = "★" if name in favorites else "☆"
            title_frame_card = tk.Frame(card, bg="#2b2f4b")
            title_frame_card.pack(fill="x")
           
            tk.Label(title_frame_card, text=name, font=("Segoe UI", 20, "bold"), fg="#FFD700", bg="#2b2f4b").pack(side="left")
            fav_btn = tk.Button(title_frame_card, text=star, font=("Segoe UI", 16), fg="#FFD700", bg="#2b2f4b",
                              bd=0, command=lambda n=name: toggle_favorite(n))
            fav_btn.pack(side="right")
           
            info_frame = tk.Frame(card, bg="#2b2f4b")
            info_frame.pack(fill="x", padx=10)
           
            tk.Label(info_frame, text=f"🔤 Symbol: {details[0]}", fg="white", bg="#2b2f4b",
                    font=("Segoe UI", 14)).pack(anchor="w", pady=5)
            tk.Label(info_frame, text=f"🏭 Main Use: {details[1]}", fg="white", bg="#2b2f4b",
                    font=("Segoe UI", 14)).pack(anchor="w", pady=5)
            tk.Label(info_frame, text=f"🌍 Country: {details[2]}", fg="white", bg="#2b2f4b",
                    font=("Segoe UI", 14)).pack(anchor="w", pady=5)
   
    if not found_any:
        tk.Label(content_frame, text="No minerals found matching your search.",
                fg="white", bg="#20243b", font=("Segoe UI", 16)).pack(pady=50)

# 2. Favorites System
def toggle_favorite(mineral_name):
    if mineral_name in favorites:
        favorites.remove(mineral_name)
        show_notification(f"Removed {mineral_name} from favorites")
    else:
        favorites.append(mineral_name)
        show_notification(f"Added {mineral_name} to favorites")
    save_favorites_to_file()
    if hasattr(search_entry, 'get') and search_entry.get().strip():
        search_minerals()
    else:
        populate_minerals()

def show_favorites():
    for widget in mineral_content.winfo_children():
        widget.destroy()
   
    # SIMPLE FIX: Remove complex centering, just use pack with padding
    title_frame = tk.Frame(mineral_content, bg="#20243b")
    title_frame.pack(fill="x", pady=20)
    tk.Label(title_frame, text="⭐ Favorite Minerals", font=("Segoe UI", 28, "bold"),
             fg="#FFD700", bg="#20243b").pack()
   
    # Content container with centered alignment
    content_frame = tk.Frame(mineral_content, bg="#20243b")
    content_frame.pack(fill="both", expand=True, padx=100, pady=20)  # Increased padding for centering
   
    if not favorites:
        tk.Label(content_frame, text="No favorites yet. Click the star icon on any mineral to add it!",
                fg="white", bg="#20243b", font=("Segoe UI", 16)).pack(pady=50)
        return
   
    for name in favorites:
        if name in minerals:
            details = minerals[name]
            # Center each card by making it smaller and centering
            card_container = tk.Frame(content_frame, bg="#20243b")
            card_container.pack(fill="x", pady=10)
           
            card = tk.Frame(card_container, bg="#2b2f4b", bd=3, relief="ridge", padx=20, pady=15)
            card.pack(fill="x", pady=5, padx=150)  # Add horizontal padding to center the cards
           
            title_frame_card = tk.Frame(card, bg="#2b2f4b")
            title_frame_card.pack(fill="x")
           
            tk.Label(title_frame_card, text=name, font=("Segoe UI", 20, "bold"), fg="#FFD700", bg="#2b2f4b").pack(side="left")
            fav_btn = tk.Button(title_frame_card, text="★", font=("Segoe UI", 16), fg="#FFD700", bg="#2b2f4b",
                              bd=0, command=lambda n=name: toggle_favorite(n))
            fav_btn.pack(side="right")
           
            info_frame = tk.Frame(card, bg="#2b2f4b")
            info_frame.pack(fill="x", padx=10)
           
            tk.Label(info_frame, text=f"🔤 Symbol: {details[0]}", fg="white", bg="#2b2f4b",
                    font=("Segoe UI", 14)).pack(anchor="w", pady=5)
            tk.Label(info_frame, text=f"🏭 Main Use: {details[1]}", fg="white", bg="#2b2f4b",
                    font=("Segoe UI", 14)).pack(anchor="w", pady=5)
            tk.Label(info_frame, text=f"🌍 Country: {details[2]}", fg="white", bg="#2b2f4b",
                    font=("Segoe UI", 14)).pack(anchor="w", pady=5)


                tk.Button(controls_frame, text="💾 Save", command=save_user, bg="#2C73D2", fg="white",
                         font=("Segoe UI", 10, "bold")).pack(side="right", padx=5)
                tk.Button(controls_frame, text="🗑️ Delete", command=delete_user, bg="red", fg="white",
                         font=("Segoe UI", 10, "bold")).pack(side="right", padx=5)

# 2. Favorites System
def toggle_favorite(mineral_name):
    if mineral_name in favorites:
        favorites.remove(mineral_name)
        show_notification(f"Removed {mineral_name} from favorites")
    else:
        favorites.append(mineral_name)
        show_notification(f"Added {mineral_name} to favorites")
    save_favorites_to_file()
    if hasattr(search_entry, 'get') and search_entry.get().strip():
        search_minerals()
    else:
        populate_minerals()

def show_favorites():
    for widget in mineral_content.winfo_children():
        widget.destroy()
   
    # SIMPLE FIX: Remove complex centering, just use pack with padding
    title_frame = tk.Frame(mineral_content, bg="#20243b")
    title_frame.pack(fill="x", pady=20)
    tk.Label(title_frame, text="⭐ Favorite Minerals", font=("Segoe UI", 28, "bold"),
             fg="#FFD700", bg="#20243b").pack()
   
    # Content container with centered alignment
    content_frame = tk.Frame(mineral_content, bg="#20243b")
    content_frame.pack(fill="both", expand=True, padx=100, pady=20)  # Increased padding for centering
   
    if not favorites:
        tk.Label(content_frame, text="No favorites yet. Click the star icon on any mineral to add it!",
                fg="white", bg="#20243b", font=("Segoe UI", 16)).pack(pady=50)
        return
   
    for name in favorites:
        if name in minerals:
            details = minerals[name]
            # Center each card by making it smaller and centering
            card_container = tk.Frame(content_frame, bg="#20243b")
            card_container.pack(fill="x", pady=10)
           
            card = tk.Frame(card_container, bg="#2b2f4b", bd=3, relief="ridge", padx=20, pady=15)
            card.pack(fill="x", pady=5, padx=150)  # Add horizontal padding to center the cards
           
            title_frame_card = tk.Frame(card, bg="#2b2f4b")
            title_frame_card.pack(fill="x")
           
            tk.Label(title_frame_card, text=name, font=("Segoe UI", 20, "bold"), fg="#FFD700", bg="#2b2f4b").pack(side="left")
            fav_btn = tk.Button(title_frame_card, text="★", font=("Segoe UI", 16), fg="#FFD700", bg="#2b2f4b",
                              bd=0, command=lambda n=name: toggle_favorite(n))
            fav_btn.pack(side="right")
           
            info_frame = tk.Frame(card, bg="#2b2f4b")
            info_frame.pack(fill="x", padx=10)
           
            tk.Label(info_frame, text=f"🔤 Symbol: {details[0]}", fg="white", bg="#2b2f4b",
                    font=("Segoe UI", 14)).pack(anchor="w", pady=5)
            tk.Label(info_frame, text=f"🏭 Main Use: {details[1]}", fg="white", bg="#2b2f4b",
                    font=("Segoe UI", 14)).pack(anchor="w", pady=5)
            tk.Label(info_frame, text=f"🌍 Country: {details[2]}", fg="white", bg="#2b2f4b",
                    font=("Segoe UI", 14)).pack(anchor="w", pady=5)

# 3. Quick Statistics
def show_stats():
    total_countries = len(country_profiles)
    total_minerals = len(minerals)
    total_favorites = len(favorites)
   
    # Find top producer
    top_producer = max(country_profiles.items(), key=lambda x: x[1][1]) if country_profiles else ("None", ([""], 0, 0, ""))
   
    stats_window = tk.Toplevel(root)
    stats_window.title("📊 Quick Statistics")
    stats_window.geometry("400x300")
    stats_window.config(bg="#20243b")
    stats_window.transient(root)
    stats_window.grab_set()
   
    # Center content in stats window
    center_frame = tk.Frame(stats_window, bg="#20243b")
    center_frame.place(relx=0.5, rely=0.5, anchor='center')
   
    tk.Label(center_frame, text="📊 Quick Statistics", font=("Segoe UI", 24, "bold"),
             fg="#FFD700", bg="#20243b").pack(pady=20)
   
    stats_frame = tk.Frame(center_frame, bg="#20243b")
    stats_frame.pack(fill="both", expand=True, padx=30, pady=10)
   
    stats_data = [
        f"🌍 Total Countries: {total_countries}",
        f"💎 Total Minerals: {total_minerals}",
        f"⭐ Favorite Minerals: {total_favorites}",
        f"🏆 Top Producer: {top_producer[0]} ({top_producer[1][1]} Mt)"
    ]
   
    for stat in stats_data:
        tk.Label(stats_frame, text=stat, fg="white", bg="#20243b",
                font=("Segoe UI", 14), justify="left").pack(anchor="w", pady=8)
   
    tk.Button(center_frame, text="Close", command=stats_window.destroy,
              bg="#2C73D2", fg="white", font=("Segoe UI", 12, "bold"),
              padx=20, pady=8).pack(pady=20)

# 4. Notification System
def show_notification(message):
    notification = tk.Toplevel(root)
    notification.geometry("300x80")
    notification.title("Notification")
    notification.config(bg="#2b2f4b")
    notification.transient(root)
    notification.overrideredirect(True)  # Remove window decorations
   
    # Position near center
    x = root.winfo_x() + (root.winfo_width() // 2) - 150
    y = root.winfo_y() + 100
    notification.geometry(f"+{x}+{y}")
   
    tk.Label(notification, text=message, fg="white", bg="#2b2f4b",
             font=("Segoe UI", 11), wraplength=280).pack(expand=True, fill="both", padx=10, pady=10)
   
    notification.after(2000, notification.destroy)  # Auto-close after 2 seconds

# 5. Data Backup
def backup_data():
    timestamp = datetime.datetime.now().strftime("%Y%m%d_%H%M%S")
    backup_folder = f"backup_{timestamp}"
   
    if not os.path.exists(backup_folder):
        os.makedirs(backup_folder)
   
    files_to_backup = ['users.json', 'minerals.json', 'countries.json', 'favorites.json']
    backed_up = 0
   
    for file in files_to_backup:
        if os.path.exists(file):
            shutil.copy(file, os.path.join(backup_folder, file))
            backed_up += 1
   
    show_notification(f"Backup created: {backup_folder} ({backed_up} files)")
    return backup_folder

# 6. Data Validation
def validate_number(input_str, field_name):
    try:
        float(input_str)
        return True
    except ValueError:
        messagebox.showerror("Error", f"Please enter a valid number for {field_name}")
        return False

# 7. Enhanced Export with Progress
def export_with_progress():
    progress_window = tk.Toplevel(root)
    progress_window.title("Exporting...")
    progress_window.geometry("300x100")
    progress_window.config(bg="#20243b")
    progress_window.transient(root)
    progress_window.grab_set()
   
    # Center content in progress window
    center_frame = tk.Frame(progress_window, bg="#20243b")
    center_frame.place(relx=0.5, rely=0.5, anchor='center')
   
    tk.Label(center_frame, text="📤 Exporting data...",
             fg="white", bg="#20243b", font=("Segoe UI", 12)).pack(pady=20)
   
    progress_bar = tk.Frame(center_frame, bg="#2b2f4b", height=10)
    progress_bar.pack(fill="x", padx=50, pady=10)
    progress_bar.progress = tk.Frame(progress_bar, bg="#FFD700", height=10, width=10)
    progress_bar.progress.pack(side="left")
   
    def animate_export():
        # Animate progress bar
        width = 10
        while width < 200:
            width += 10
            progress_bar.progress.config(width=width)
            progress_window.update()
            progress_window.after(50)
       
        # Do actual export
        export_minerals_csv()
        progress_window.destroy()
        show_notification("Export completed successfully!")
   
    progress_window.after(100, animate_export)

# --- Scrollable Frame Helper ---
class ScrollableFrame(tk.Frame):
    def __init__(self, container, *args, **kwargs):
        super().__init__(container, *args, **kwargs)
        self.canvas = tk.Canvas(self, bg="#20243b", highlightthickness=0)
        scrollbar = tk.Scrollbar(self, orient="vertical", command=self.canvas.yview)
        self.scrollable_frame = tk.Frame(self.canvas, bg="#20243b")

        self.scrollable_frame.bind(
            "<Configure>",
            lambda e: self.canvas.configure(scrollregion=self.canvas.bbox("all"))
        )

        self.canvas.create_window((0, 0), window=self.scrollable_frame, anchor="nw")
        self.canvas.configure(yscrollcommand=scrollbar.set)

        self.canvas.pack(side="left", fill="both", expand=True)
        scrollbar.pack(side="right", fill="y")

        # Mousewheel support (Windows/macOS/Linux)
        self.canvas.bind_all("<MouseWheel>", self._on_mousewheel)   # Windows/Mac
        self.canvas.bind_all("<Button-4>", self._on_mousewheel)     # Linux up
        self.canvas.bind_all("<Button-5>", self._on_mousewheel)     # Linux down

    def _on_mousewheel(self, event):
        if getattr(event, "num", None) == 4:
            delta = -1
        elif getattr(event, "num", None) == 5:
            delta = 1
        else:
            # Normalize delta for Windows/macOS
            delta = -1 * int(event.delta / 120)
        self.canvas.yview_scroll(delta, "units")
# --- Navigation & Auth Functions ---
def show_frame(frame):
    for f in (login_frame, dashboard_frame, mineral_frame, country_frame, chart_frame, user_frame, about_frame):
        f.pack_forget()
    frame.pack(fill="both", expand=True)

def login_user():
    username = username_entry.get().strip()
    password = password_entry.get().strip()
   
    if not username or not password:
        messagebox.showerror("Error", "Username and password are required.")
        return
   
    # Automatically detect role from username
    detected_role = detect_role_from_username(username)
    if detected_role is None:
        messagebox.showerror("Error", "Invalid username or password.")
        return
   
    # Find user in the list
    user_found = None
    for user in users:
        if user["username"] == username and user["password"] == password:
            user_found = user
            break
   
    if user_found:
        # Verify the detected role matches the stored role
        stored_role = user_found["role"]
        if stored_role == detected_role:
            show_frame(dashboard_frame)
            welcome_label.config(text=f"Welcome {username} ({stored_role})")
            if stored_role == "Administrator":
                admin_btns_frame.pack(pady=8)
                backup_btn.pack(side="right", padx=8)
            else:
                admin_btns_frame.pack_forget()
                backup_btn.pack_forget()
            show_notification(f"Login successful! Welcome back, {username}!")
        else:
            messagebox.showerror("Error", f"Role mismatch! Your username suggests {detected_role}, but account is registered as {stored_role}.")
    else:
        messagebox.showerror("Error", "Invalid username or password.")

def logout_user():
    username_entry.delete(0, tk.END)
    password_entry.delete(0, tk.END)
    admin_btns_frame.pack_forget()
    backup_btn.pack_forget()
    show_frame(login_frame)
    show_notification("Logged out successfully!")

# --- Minerals Page Functions (SIMPLE CENTERING FIX) ---
def populate_minerals():
    for widget in mineral_content.winfo_children():
        widget.destroy()
   
    # SIMPLE FIX: Remove complex centering, just use pack with padding
    title_frame = tk.Frame(mineral_content, bg="#20243b")
    title_frame.pack(fill="x", pady=20)
    tk.Label(title_frame, text="💎 Minerals Database", font=("Segoe UI", 28, "bold"),
             fg="#FFD700", bg="#20243b").pack()
   
    # Search bar - centered with padding
    search_frame = tk.Frame(mineral_content, bg="#20243b")
    search_frame.pack(fill="x", pady=10)
   
    global search_entry
    search_entry = tk.Entry(search_frame, font=("Segoe UI", 12), width=30)
    search_entry.pack(side="left", padx=5)
    search_entry.bind('<Return>', lambda e: search_minerals())
   
    tk.Button(search_frame, text="🔍 Search", command=search_minerals,
              bg="#FFD700", fg="#20243b", font=("Segoe UI", 10, "bold")).pack(side="left", padx=5)
    tk.Button(search_frame, text="⭐ Favorites", command=show_favorites,
              bg="#FFD700", fg="#20243b", font=("Segoe UI", 10, "bold")).pack(side="left", padx=5)
    tk.Button(search_frame, text="📊 Stats", command=show_stats,
              bg="#2C73D2", fg="white", font=("Segoe UI", 10, "bold")).pack(side="left", padx=5)
   
    # Content container with centered alignment
    content_frame = tk.Frame(mineral_content, bg="#20243b")
    content_frame.pack(fill="both", expand=True, padx=100, pady=20)  # Increased padding for centering
   
    for name, details in minerals.items():
        # Center each card by making it smaller and centering
        card_container = tk.Frame(content_frame, bg="#20243b")
        card_container.pack(fill="x", pady=10)
       
        card = tk.Frame(card_container, bg="#2b2f4b", bd=3, relief="ridge", padx=20, pady=15)
        card.pack(fill="x", pady=5, padx=150)  # Add horizontal padding to center the cards
       
        # Title with favorite star
        title_frame_card = tk.Frame(card, bg="#2b2f4b")
        title_frame_card.pack(fill="x")
       
        tk.Label(title_frame_card, text=name, font=("Segoe UI", 20, "bold"), fg="#FFD700", bg="#2b2f4b").pack(side="left")
       
        star = "★" if name in favorites else "☆"
        fav_btn = tk.Button(title_frame_card, text=star, font=("Segoe UI", 16), fg="#FFD700", bg="#2b2f4b",
                          bd=0, command=lambda n=name: toggle_favorite(n))
        fav_btn.pack(side="right")
       
        info_frame = tk.Frame(card, bg="#2b2f4b")
        info_frame.pack(fill="x", padx=10)
       
        tk.Label(info_frame, text=f"🔤 Symbol: {details[0]}", fg="white", bg="#2b2f4b",
                font=("Segoe UI", 14)).pack(anchor="w", pady=5)
        tk.Label(info_frame, text=f"🏭 Main Use: {details[1]}", fg="white", bg="#2b2f4b",
                font=("Segoe UI", 14)).pack(anchor="w", pady=5)
        tk.Label(info_frame, text=f"🌍 Country: {details[2]}", fg="white", bg="#2b2f4b",
                font=("Segoe UI", 14)).pack(anchor="w", pady=5)

def edit_minerals():
    for widget in mineral_content.winfo_children():
        widget.destroy()
   
    # SIMPLE FIX: Remove complex centering, just use pack with padding
    title_frame = tk.Frame(mineral_content, bg="#20243b")
    title_frame.pack(fill="x", pady=20)
    tk.Label(title_frame, text="✏️ Edit Minerals", font=("Segoe UI", 28, "bold"), fg="#FFD700", bg="#20243b").pack()
   
    # Content container with centered alignment
    content_frame = tk.Frame(mineral_content, bg="#20243b")
    content_frame.pack(fill="both", expand=True, padx=100, pady=20)  # Increased padding for centering

    for name in list(minerals.keys()):
        details = minerals[name]
        # Center each card by making it smaller and centering
        card_container = tk.Frame(content_frame, bg="#20243b")
        card_container.pack(fill="x", pady=10)
       
        frame = tk.Frame(card_container, bg="#2b2f4b", bd=3, relief="ridge", padx=20, pady=15)
        frame.pack(fill="x", pady=5, padx=150)  # Add horizontal padding to center the cards

        tk.Label(frame, text=name, font=("Segoe UI", 18, "bold"), fg="#FFD700", bg="#2b2f4b").pack(anchor="w", pady=10)

        input_frame = tk.Frame(frame, bg="#2b2f4b")
        input_frame.pack(fill="x", padx=10)

        tk.Label(input_frame, text="🔤 Symbol:", fg="white", bg="#2b2f4b", font=("Segoe UI", 12)).grid(row=0, column=0, sticky="w", pady=8)
        symbol_entry = tk.Entry(input_frame, font=("Segoe UI", 12), width=30)
        symbol_entry.insert(0, details[0])
        symbol_entry.grid(row=0, column=1, padx=10, pady=8, sticky="w")

        tk.Label(input_frame, text="🏭 Main Use:", fg="white", bg="#2b2f4b", font=("Segoe UI", 12)).grid(row=1, column=0, sticky="w", pady=8)
        use_entry = tk.Entry(input_frame, font=("Segoe UI", 12), width=30)
        use_entry.insert(0, details[1])
        use_entry.grid(row=1, column=1, padx=10, pady=8, sticky="w")

        tk.Label(input_frame, text="🌍 Country:", fg="white", bg="#2b2f4b", font=("Segoe UI", 12)).grid(row=2, column=0, sticky="w", pady=8)
        country_entry = tk.Entry(input_frame, font=("Segoe UI", 12), width=30)
        country_entry.insert(0, details[2])
        country_entry.grid(row=2, column=1, padx=10, pady=8, sticky="w")

        tk.Label(input_frame, text="📍 Latitude:", fg="white", bg="#2b2f4b", font=("Segoe UI", 12)).grid(row=3, column=0, sticky="w", pady=8)
        lat_entry = tk.Entry(input_frame, font=("Segoe UI", 12), width=30)
        lat_entry.insert(0, details[3][0])
        lat_entry.grid(row=3, column=1, padx=10, pady=8, sticky="w")

        tk.Label(input_frame, text="📍 Longitude:", fg="white", bg="#2b2f4b", font=("Segoe UI", 12)).grid(row=4, column=0, sticky="w", pady=8)
        lon_entry = tk.Entry(input_frame, font=("Segoe UI", 12), width=30)
        lon_entry.insert(0, details[3][1])
        lon_entry.grid(row=4, column=1, padx=10, pady=8, sticky="w")

        def save_changes(n=name, se=symbol_entry, ue=use_entry, ce=country_entry, la=lat_entry, lo=lon_entry):
            if not validate_number(la.get(), "latitude") or not validate_number(lo.get(), "longitude"):
                return
            minerals[n] = (se.get(), ue.get(), ce.get(), [float(la.get()), float(lo.get())])
            save_minerals_to_file()
            show_notification(f"{n} updated successfully!")
            populate_minerals()

        btn_frame = tk.Frame(frame, bg="#2b2f4b")
        btn_frame.pack(fill="x", pady=10)
        tk.Button(btn_frame, text="💾 Save Changes", command=save_changes, bg="#2C73D2", fg="white",
                 font=("Segoe UI", 12, "bold"), padx=20, pady=8).pack(side="right", padx=10)

    btn_frame = tk.Frame(content_frame, bg="#20243b")
    btn_frame.pack(pady=20)
    tk.Button(btn_frame, text="⬅️ Back to View", command=populate_minerals, bg="red", fg="white",
             font=("Segoe UI", 12, "bold"), padx=20, pady=8).pack()


