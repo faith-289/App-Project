import tkinter as tk
from tkinter import messagebox, filedialog
import folium, webbrowser, csv
import matplotlib.pyplot as plt
from matplotlib.backends.backend_tkagg import FigureCanvasTkAgg
import matplotlib.dates as mdates
from matplotlib.patches import Rectangle
import json
import os
import shutil
import datetime
import random
import re

# --- User and Data Storage ---
# Load users from file if exists
def load_users_from_file():
    users_data = []
    if os.path.exists('users.json'):
        try:
            file = open('users.json', 'r')
            data = json.load(file)
            file.close()
           
            # Handle both old dictionary format and new list format
            if isinstance(data, dict):
                # Convert old format to new format
                for username, user_info in data.items():
                    if isinstance(user_info, (list, tuple)) and len(user_info) >= 2:
                        users_data.append({
                            "username": username,
                            "password": user_info[0],
                            "id": "0000",  # Default ID for migrated users
                            "role": user_info[1]
                        })
            elif isinstance(data, list):
                users_data = data
               
        except Exception as e:
            print(f"Error loading users: {e}")
            users_data = []
           
    return users_data

def save_users_to_file():
    file = open('users.json', 'w')
    json.dump(users, file)
    file.close()

def load_minerals_from_file():
    minerals_data = {}
    if os.path.exists('minerals.json'):
        file = open('minerals.json', 'r')
        minerals_data = json.load(file)
        file.close()
        # Convert coordinate lists back to proper format
        for mineral_name in minerals_data:
            mineral_info = minerals_data[mineral_name]
            coordinates = mineral_info[3]
            minerals_data[mineral_name] = (mineral_info[0], mineral_info[1], mineral_info[2], coordinates)
    return minerals_data

def save_minerals_to_file():
    file = open('minerals.json', 'w')
    json.dump(minerals, file)
    file.close()

def load_countries_from_file():
    countries_data = {}
    if os.path.exists('countries.json'):
        file = open('countries.json', 'r')
        countries_data = json.load(file)
        file.close()
    return countries_data

def save_countries_to_file():
    file = open('countries.json', 'w')
    json.dump(country_profiles, file)
    file.close()

def load_favorites_from_file():
    favorites_data = []
    if os.path.exists('favorites.json'):
        file = open('favorites.json', 'r')
        favorites_data = json.load(file)
        file.close()
    return favorites_data

def save_favorites_to_file():
    file = open('favorites.json', 'w')
    json.dump(favorites, file)
    file.close()

# Load data when program starts
users = load_users_from_file()
if not users:  # If no users file exists, use default data
    users = [
        {"username": "Ina10", "password": "password", "id": "0405", "role": "Administrator"}
    ]

minerals = load_minerals_from_file()
if not minerals:  # If no minerals file exists, use default data
    minerals = {
        "Cobalt": ("Co", "Battery production", "Democratic Republic of Congo", [-4.0, 15.0]),
        "Lithium": ("Li", "Electric vehicle batteries", "Zimbabwe", [-20.0, 30.0]),
        "Manganese": ("Mn", "Steel production", "South Africa", [-28.0, 24.0]),
        "Graphite": ("C", "Battery anodes", "Mozambique", [-18.0, 35.0])
    }

country_profiles = load_countries_from_file()
if not country_profiles:  # If no countries file exists, use default data
    country_profiles = {
        "South Africa": (["Manganese", "Platinum", "Chromium"], 200, 7.5, "Kalahari Manganese Field"),
        "Zimbabwe": (["Lithium", "Gold", "Platinum"], 50, 4.0, "Bikita Lithium Project"),
        "Democratic Republic Of Congo": (["Cobalt", "Copper"], 300, 10.2, "Katanga Mining Operations"),
        "Mozambique": (["Graphite", "Coal"], 80, 3.1, "Balama Graphite Project")
    }

favorites = load_favorites_from_file()

ROLE_OPTIONS = ["Administrator", "Investor", "Researcher"]

